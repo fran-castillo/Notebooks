{
  "nbformat": 4,
  "nbformat_minor": 0,
  "metadata": {
    "colab": {
      "provenance": [],
      "include_colab_link": true
    },
    "kernelspec": {
      "name": "python3",
      "display_name": "Python 3"
    },
    "language_info": {
      "name": "python"
    }
  },
  "cells": [
    {
      "cell_type": "markdown",
      "metadata": {
        "id": "view-in-github",
        "colab_type": "text"
      },
      "source": [
        "<a href=\"https://colab.research.google.com/github/fran-castillo/Proyectos-Python/blob/main/Data_planillas.ipynb\" target=\"_parent\"><img src=\"https://colab.research.google.com/assets/colab-badge.svg\" alt=\"Open In Colab\"/></a>"
      ]
    },
    {
      "cell_type": "markdown",
      "source": [
        "# **Scraping de Planillas de Eventos**\n",
        "\n"
      ],
      "metadata": {
        "id": "WR3H4f12ahsb"
      }
    },
    {
      "cell_type": "markdown",
      "source": [
        "## Importamos los modulos necesarios para  la autenticacion  de Google Drive"
      ],
      "metadata": {
        "id": "RtIzzMr6azqg"
      }
    },
    {
      "cell_type": "code",
      "source": [
        "from google.colab import drive\n",
        "from google.colab import auth\n",
        "from googleapiclient.discovery import build\n",
        "from googleapiclient.errors import HttpError\n",
        "import google.auth"
      ],
      "metadata": {
        "id": "ZwpsvM4t7hxp"
      },
      "execution_count": null,
      "outputs": []
    },
    {
      "cell_type": "code",
      "source": [
        "drive.mount('/content/drive')\n",
        "auth.authenticate_user()\n"
      ],
      "metadata": {
        "colab": {
          "base_uri": "https://localhost:8080/"
        },
        "id": "MwS3FW857pMn",
        "outputId": "9e197ce6-8211-488d-db0e-b7f98ef2d214"
      },
      "execution_count": null,
      "outputs": [
        {
          "output_type": "stream",
          "name": "stdout",
          "text": [
            "Drive already mounted at /content/drive; to attempt to forcibly remount, call drive.mount(\"/content/drive\", force_remount=True).\n"
          ]
        }
      ]
    },
    {
      "cell_type": "markdown",
      "source": [
        "## Utilizamos las Funcion \"Listar Carpetas\" para listar el directorio completo de carpetas en un carpeta raiz \n",
        "*No la utilizamos en el ejercicio pero se usa como ejemplo para otra funcion*"
      ],
      "metadata": {
        "id": "ZpyBnkgdbAYW"
      }
    },
    {
      "cell_type": "code",
      "source": [
        "\n",
        "def listar_carpetas(id_carpeta):\n",
        "    creds, _ = google.auth.default()\n",
        "    servicio = build('drive', 'v3', credentials= creds)\n",
        "    query = f\"'{id_carpeta}' in parents and mimeType='application/vnd.google-apps.folder'\"\n",
        "    resultados = servicio.files().list(q=query,fields=\"nextPageToken, files(id, name)\").execute()\n",
        "    items = resultados.get('files', [])\n",
        "    for item in items:\n",
        "        print(f\"{item['name']} - {item['id']}\")\n",
        "        query = f\"'{item['id']}' in parents and mimeType='application/vnd.google-apps.folder'\"\n",
        "        sub_resultados = servicio.files().list(q=query,fields=\"nextPageToken, files(id, name)\").execute()\n",
        "        sub_items = sub_resultados.get('files', [])\n",
        "        for sub_item in sub_items:\n",
        "            print(f\"\\t{sub_item['name']} - {sub_item['id']}\")\n",
        "            listar_carpetas(sub_item['id'])"
      ],
      "metadata": {
        "id": "Tb8ZGXmi7__q"
      },
      "execution_count": null,
      "outputs": []
    },
    {
      "cell_type": "markdown",
      "source": [
        "### Utilizamos el ID de la carpeta raiz"
      ],
      "metadata": {
        "id": "1Ag1FA3lbfni"
      }
    },
    {
      "cell_type": "code",
      "source": [
        "carpeta_raiz_id = 'ID_Carpeta_Raiz'\n",
        "listar_carpetas(carpeta_raiz_id)"
      ],
      "metadata": {
        "id": "QA_5TTzA826o"
      },
      "execution_count": null,
      "outputs": []
    },
    {
      "cell_type": "code",
      "source": [
        " "
      ],
      "metadata": {
        "id": "Y9X_DsdXRuR6"
      },
      "execution_count": null,
      "outputs": []
    },
    {
      "cell_type": "markdown",
      "source": [
        "## Definimos la Funcion \"Listar Planillas\" para obtener el ID todos los archivos Spreadsheet\n",
        "\n",
        "*Esta funcion devuelve una cantidad erronea de resultados*"
      ],
      "metadata": {
        "id": "ZL09h-p4bufu"
      }
    },
    {
      "cell_type": "code",
      "source": [
        "id_list = []\n",
        "def listar_planillas(id_carpeta):\n",
        "    creds, _ = google.auth.default()\n",
        "    servicio = build('drive', 'v3', credentials= creds)\n",
        "    query = f\"'{id_carpeta}' in parents and mimeType='application/vnd.google-apps.folder'\"\n",
        "    resultados = servicio.files().list(q=query,fields=\"nextPageToken, files(id, name)\").execute()\n",
        "    items = resultados.get('files', [])\n",
        "    for item in items:\n",
        "        query = f\"'{item['id']}' in parents and mimeType='application/vnd.google-apps.folder'\"\n",
        "        sub_resultados = servicio.files().list(q=query,fields=\"nextPageToken, files(id, name)\").execute()\n",
        "        sub_items = sub_resultados.get('files', [])\n",
        "        for sub_item in sub_items:\n",
        "            listar_planillas(sub_item['id'])\n",
        "            plani = servicio.files().list(q=\"name contains 'pax' and mimeType='application/vnd.google-apps.spreadsheet'\",fields=\"nextPageToken, files(id, name)\").execute()\n",
        "            planillas = plani.get('files',[])\n",
        "            for planilla in planillas:\n",
        "                  id_list.append(planilla['id'])              \n",
        "                             "
      ],
      "metadata": {
        "id": "E93IWGXJ3kQ1"
      },
      "execution_count": null,
      "outputs": []
    },
    {
      "cell_type": "code",
      "source": [
        "carpeta_raiz_id = 'ID_Carpeta_Raiz'\n",
        "listar_planillas(carpeta_raiz_id)"
      ],
      "metadata": {
        "id": "M0H0m_8D7V9M"
      },
      "execution_count": null,
      "outputs": []
    },
    {
      "cell_type": "markdown",
      "source": [
        "## Por un error en la iteracion el resultado es demasiado alto"
      ],
      "metadata": {
        "id": "vBIOvl5vcqNV"
      }
    },
    {
      "cell_type": "code",
      "source": [
        "len(id_list)"
      ],
      "metadata": {
        "colab": {
          "base_uri": "https://localhost:8080/"
        },
        "id": "MQ2A9rOgG2Wb",
        "outputId": "54b2710f-c5a5-403b-d7b7-0d6dc93217ee"
      },
      "execution_count": null,
      "outputs": [
        {
          "output_type": "execute_result",
          "data": {
            "text/plain": [
              "6200"
            ]
          },
          "metadata": {},
          "execution_count": 20
        }
      ]
    },
    {
      "cell_type": "markdown",
      "source": [
        "## Importamos los modulos necesarios para manipular el resultado y obtener la informacion especifica de cada planilla"
      ],
      "metadata": {
        "id": "e3PYLcxdc4VV"
      }
    },
    {
      "cell_type": "code",
      "source": [
        "import gspread\n",
        "import numpy as np\n",
        "from google.auth import default"
      ],
      "metadata": {
        "id": "M6z5Ecp-Lvrw"
      },
      "execution_count": null,
      "outputs": []
    },
    {
      "cell_type": "code",
      "source": [
        "creds, _ = default()"
      ],
      "metadata": {
        "id": "JvxR7pmEMbX7"
      },
      "execution_count": null,
      "outputs": []
    },
    {
      "cell_type": "markdown",
      "source": [
        "## Covertimos el array en una lista para poder buscar resultados repetidos"
      ],
      "metadata": {
        "id": "62F9Qb1idGMd"
      }
    },
    {
      "cell_type": "code",
      "source": [
        "id_array= np.array(id_list)"
      ],
      "metadata": {
        "id": "GQMsYf2zQfnK"
      },
      "execution_count": null,
      "outputs": []
    },
    {
      "cell_type": "code",
      "source": [
        "idList = id_array.tolist()\n",
        "print(idList)"
      ],
      "metadata": {
        "id": "NCPgbOEUQ28x"
      },
      "execution_count": null,
      "outputs": []
    },
    {
      "cell_type": "markdown",
      "source": [
        "## Iteramos el array en busca de resultados repetidos\n",
        "*El resultado desciende de 6200 a 812 pero sigue siendo alto*"
      ],
      "metadata": {
        "id": "21nG4R5MdQz0"
      }
    },
    {
      "cell_type": "code",
      "source": [
        "for i in idList:\n",
        "  if idList.count(i) > 1:\n",
        "    idList.remove(i)\n",
        "len(idList)"
      ],
      "metadata": {
        "colab": {
          "base_uri": "https://localhost:8080/"
        },
        "id": "ZAZa3G1VRRfo",
        "outputId": "6ff3aa2d-eb12-4edb-e314-be37f8c0f07c"
      },
      "execution_count": null,
      "outputs": [
        {
          "output_type": "execute_result",
          "data": {
            "text/plain": [
              "812"
            ]
          },
          "metadata": {},
          "execution_count": 44
        }
      ]
    },
    {
      "cell_type": "markdown",
      "source": [
        "# Definimos la funcion que obtiene la informacion que necesitamos de cada planilla"
      ],
      "metadata": {
        "id": "P00hxxvKdpE9"
      }
    },
    {
      "cell_type": "code",
      "source": [
        "filas =[]\n",
        "def Scrap_planilla(id):\n",
        "  gc = gspread.authorize(creds)\n",
        "  sh = gc.open_by_key(id)\n",
        "  ws = sh.get_worksheet(0)\n",
        "  fecha = ws.acell('B1').value\n",
        "  cliente = ws.acell('B3').value\n",
        "  comercial = ws.acell('B4').value\n",
        "  pax = ws.acell('B5').value\n",
        "  ubicacion = ws.acell('B6').value\n",
        "  tipo = ws.acell('B7').value\n",
        "  organizador = ws.acell('B8').value\n",
        "  ambientador = ws.acell('B11').value\n",
        "  dj = ws.acell('B10').value\n",
        "  catering = ws.acell('B12').value\n",
        "  fila = {'Fecha' : fecha,\n",
        "        'Cliente' : cliente,\n",
        "        'Comercial' : comercial,\n",
        "        'Pax' : pax,\n",
        "        'Ubicacion' : ubicacion,\n",
        "        'Tipo' : tipo,\n",
        "        'Organizador' : organizador,\n",
        "        'Ambientador' : ambientador,\n",
        "        'DJ' : dj,\n",
        "        'Catering' : catering,\n",
        "        }\n",
        "  filas.append(fila)"
      ],
      "metadata": {
        "id": "53KVflTXL3XV"
      },
      "execution_count": null,
      "outputs": []
    },
    {
      "cell_type": "code",
      "source": [
        "for i in idList[:10]:\n",
        "  Scrap_planilla(i)"
      ],
      "metadata": {
        "id": "qrxEgRryL-4P"
      },
      "execution_count": null,
      "outputs": []
    },
    {
      "cell_type": "markdown",
      "source": [
        "# Importamos pandas para moldear nuestro Dataframe"
      ],
      "metadata": {
        "id": "5SaFf7oFd_fA"
      }
    },
    {
      "cell_type": "code",
      "source": [
        "import pandas as pd"
      ],
      "metadata": {
        "id": "HZdhWarAZY86"
      },
      "execution_count": null,
      "outputs": []
    },
    {
      "cell_type": "markdown",
      "source": [
        "## Definimos la estructura del Dataframe"
      ],
      "metadata": {
        "id": "_CQGxugEeGqT"
      }
    },
    {
      "cell_type": "code",
      "source": [
        "df =pd.DataFrame()\n",
        "df['Fecha'] = None\n",
        "df['Cliente'] = None\n",
        "df['Comercial'] = None\n",
        "df['Pax'] = None\n",
        "df['Ubicacion'] = None\n",
        "df['Tipo'] = None\n",
        "df['Organizador'] = None\n",
        "df['Ambientador'] = None\n",
        "df['DJ'] = None\n",
        "df['Catering'] = None\n",
        "df"
      ],
      "metadata": {
        "colab": {
          "base_uri": "https://localhost:8080/",
          "height": 49
        },
        "id": "cOpCsSIKZw9j",
        "outputId": "6ba12a57-cd94-4a23-dba5-22d1e196992e"
      },
      "execution_count": null,
      "outputs": [
        {
          "output_type": "execute_result",
          "data": {
            "text/plain": [
              "Empty DataFrame\n",
              "Columns: [Fecha, Cliente, Comercial, Pax, Ubicacion, Tipo, Organizador, Ambientador, DJ, Catering]\n",
              "Index: []"
            ],
            "text/html": [
              "\n",
              "  <div id=\"df-a1ef1803-4c45-431f-8ed2-06907738adb5\">\n",
              "    <div class=\"colab-df-container\">\n",
              "      <div>\n",
              "<style scoped>\n",
              "    .dataframe tbody tr th:only-of-type {\n",
              "        vertical-align: middle;\n",
              "    }\n",
              "\n",
              "    .dataframe tbody tr th {\n",
              "        vertical-align: top;\n",
              "    }\n",
              "\n",
              "    .dataframe thead th {\n",
              "        text-align: right;\n",
              "    }\n",
              "</style>\n",
              "<table border=\"1\" class=\"dataframe\">\n",
              "  <thead>\n",
              "    <tr style=\"text-align: right;\">\n",
              "      <th></th>\n",
              "      <th>Fecha</th>\n",
              "      <th>Cliente</th>\n",
              "      <th>Comercial</th>\n",
              "      <th>Pax</th>\n",
              "      <th>Ubicacion</th>\n",
              "      <th>Tipo</th>\n",
              "      <th>Organizador</th>\n",
              "      <th>Ambientador</th>\n",
              "      <th>DJ</th>\n",
              "      <th>Catering</th>\n",
              "    </tr>\n",
              "  </thead>\n",
              "  <tbody>\n",
              "  </tbody>\n",
              "</table>\n",
              "</div>\n",
              "      <button class=\"colab-df-convert\" onclick=\"convertToInteractive('df-a1ef1803-4c45-431f-8ed2-06907738adb5')\"\n",
              "              title=\"Convert this dataframe to an interactive table.\"\n",
              "              style=\"display:none;\">\n",
              "        \n",
              "  <svg xmlns=\"http://www.w3.org/2000/svg\" height=\"24px\"viewBox=\"0 0 24 24\"\n",
              "       width=\"24px\">\n",
              "    <path d=\"M0 0h24v24H0V0z\" fill=\"none\"/>\n",
              "    <path d=\"M18.56 5.44l.94 2.06.94-2.06 2.06-.94-2.06-.94-.94-2.06-.94 2.06-2.06.94zm-11 1L8.5 8.5l.94-2.06 2.06-.94-2.06-.94L8.5 2.5l-.94 2.06-2.06.94zm10 10l.94 2.06.94-2.06 2.06-.94-2.06-.94-.94-2.06-.94 2.06-2.06.94z\"/><path d=\"M17.41 7.96l-1.37-1.37c-.4-.4-.92-.59-1.43-.59-.52 0-1.04.2-1.43.59L10.3 9.45l-7.72 7.72c-.78.78-.78 2.05 0 2.83L4 21.41c.39.39.9.59 1.41.59.51 0 1.02-.2 1.41-.59l7.78-7.78 2.81-2.81c.8-.78.8-2.07 0-2.86zM5.41 20L4 18.59l7.72-7.72 1.47 1.35L5.41 20z\"/>\n",
              "  </svg>\n",
              "      </button>\n",
              "      \n",
              "  <style>\n",
              "    .colab-df-container {\n",
              "      display:flex;\n",
              "      flex-wrap:wrap;\n",
              "      gap: 12px;\n",
              "    }\n",
              "\n",
              "    .colab-df-convert {\n",
              "      background-color: #E8F0FE;\n",
              "      border: none;\n",
              "      border-radius: 50%;\n",
              "      cursor: pointer;\n",
              "      display: none;\n",
              "      fill: #1967D2;\n",
              "      height: 32px;\n",
              "      padding: 0 0 0 0;\n",
              "      width: 32px;\n",
              "    }\n",
              "\n",
              "    .colab-df-convert:hover {\n",
              "      background-color: #E2EBFA;\n",
              "      box-shadow: 0px 1px 2px rgba(60, 64, 67, 0.3), 0px 1px 3px 1px rgba(60, 64, 67, 0.15);\n",
              "      fill: #174EA6;\n",
              "    }\n",
              "\n",
              "    [theme=dark] .colab-df-convert {\n",
              "      background-color: #3B4455;\n",
              "      fill: #D2E3FC;\n",
              "    }\n",
              "\n",
              "    [theme=dark] .colab-df-convert:hover {\n",
              "      background-color: #434B5C;\n",
              "      box-shadow: 0px 1px 3px 1px rgba(0, 0, 0, 0.15);\n",
              "      filter: drop-shadow(0px 1px 2px rgba(0, 0, 0, 0.3));\n",
              "      fill: #FFFFFF;\n",
              "    }\n",
              "  </style>\n",
              "\n",
              "      <script>\n",
              "        const buttonEl =\n",
              "          document.querySelector('#df-a1ef1803-4c45-431f-8ed2-06907738adb5 button.colab-df-convert');\n",
              "        buttonEl.style.display =\n",
              "          google.colab.kernel.accessAllowed ? 'block' : 'none';\n",
              "\n",
              "        async function convertToInteractive(key) {\n",
              "          const element = document.querySelector('#df-a1ef1803-4c45-431f-8ed2-06907738adb5');\n",
              "          const dataTable =\n",
              "            await google.colab.kernel.invokeFunction('convertToInteractive',\n",
              "                                                     [key], {});\n",
              "          if (!dataTable) return;\n",
              "\n",
              "          const docLinkHtml = 'Like what you see? Visit the ' +\n",
              "            '<a target=\"_blank\" href=https://colab.research.google.com/notebooks/data_table.ipynb>data table notebook</a>'\n",
              "            + ' to learn more about interactive tables.';\n",
              "          element.innerHTML = '';\n",
              "          dataTable['output_type'] = 'display_data';\n",
              "          await google.colab.output.renderOutput(dataTable, element);\n",
              "          const docLink = document.createElement('div');\n",
              "          docLink.innerHTML = docLinkHtml;\n",
              "          element.appendChild(docLink);\n",
              "        }\n",
              "      </script>\n",
              "    </div>\n",
              "  </div>\n",
              "  "
            ]
          },
          "metadata": {},
          "execution_count": 49
        }
      ]
    },
    {
      "cell_type": "markdown",
      "source": [
        "## Agregamos los datos obtenidos a nuestro Dataframe"
      ],
      "metadata": {
        "id": "ZhMymL7feYWX"
      }
    },
    {
      "cell_type": "code",
      "source": [
        "df = df.append(filas, ignore_index= True)\n",
        "df.head(10)"
      ],
      "metadata": {
        "id": "n9BojbxMZ2Kd"
      },
      "execution_count": null,
      "outputs": []
    },
    {
      "cell_type": "code",
      "source": [
        "df.tail()"
      ],
      "metadata": {
        "id": "I-Z-V41rhIKK"
      },
      "execution_count": null,
      "outputs": []
    },
    {
      "cell_type": "markdown",
      "source": [
        "# Exportamos el dataframe"
      ],
      "metadata": {
        "id": "VqV8Ic3KfPB6"
      }
    },
    {
      "cell_type": "code",
      "source": [
        "df.to_csv('Data_planillas',encoding='utf-8-sig')"
      ],
      "metadata": {
        "id": "vhbU0dKNfN9D"
      },
      "execution_count": null,
      "outputs": []
    }
  ]
}